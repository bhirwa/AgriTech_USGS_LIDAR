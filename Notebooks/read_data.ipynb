{
 "cells": [
  {
   "cell_type": "code",
   "execution_count": null,
   "metadata": {},
   "outputs": [],
   "source": []
  },
  {
   "cell_type": "code",
   "execution_count": 2,
   "metadata": {},
   "outputs": [],
   "source": [
    "import json, ast\n",
    "from os import stat\n",
    "import pdal\n",
    "\n"
   ]
  },
  {
   "cell_type": "code",
   "execution_count": 3,
   "metadata": {},
   "outputs": [],
   "source": [
    "def read_json(file_name):\n",
    "  '''\n",
    "  Read json file and return the string format\n",
    "  '''\n",
    "\n",
    "  try:\n",
    "    with open(file_name, 'r') as json_file:\n",
    "      data = json.loads(json_file.read())\n",
    "    return data\n",
    "\n",
    "  except:\n",
    "    return None\n",
    "\n"
   ]
  },
  {
   "cell_type": "code",
   "execution_count": 4,
   "metadata": {},
   "outputs": [],
   "source": [
    "def prepare_pipe(bound, us_state='IA_FullState'):\n",
    "  data = read_json('./iowa.json')\n",
    "  data['pipeline'][0]['bounds'] = bound\n",
    "  data['pipeline'][0]['filename'] = \"https://s3-us-west-2.amazonaws.com/usgs-lidar-public/IA_FullState/ept.json\"\n",
    "  print(\"data\")\n",
    "  return data\n"
   ]
  },
  {
   "cell_type": "code",
   "execution_count": 5,
   "metadata": {},
   "outputs": [],
   "source": [
    "\n",
    "def run_pipe(bound, us_state):\n",
    "  print(\"Run pipe\")\n",
    "  result = prepare_pipe(bound, us_state)\n",
    "  pipeline = pdal.Pipeline(json.dumps(result))\n",
    "  pipe_result  = pipeline.execute()\n",
    "  print(pipe_result)\n",
    "\n"
   ]
  },
  {
   "cell_type": "code",
   "execution_count": 6,
   "metadata": {},
   "outputs": [
    {
     "name": "stdout",
     "output_type": "stream",
     "text": [
      "Run pipe\n",
      "data\n",
      "1399943\n"
     ]
    }
   ],
   "source": [
    "bound = str(([-10425171.940, -10423171.940], [5164494.710, 5166494.710]))\n",
    "state = 'IA_FullState'\n",
    "# data = read_json('./iowa.json')\n",
    "# bounds = data['pipeline'][0]['bounds']\n",
    "# result = prepare_pipe(bound)\n",
    "# print(result)\n",
    "run_pipe(bound, state)"
   ]
  },
  {
   "cell_type": "markdown",
   "metadata": {},
   "source": [
    "The output will be a file with the extension tif and the file with the extension laz."
   ]
  }
 ],
 "metadata": {
  "interpreter": {
   "hash": "3266b547825843e7be8bb0c68a07759c2cf0babf00234fde1c145c8a4e9e4516"
  },
  "kernelspec": {
   "display_name": "Python 3",
   "language": "python",
   "name": "python3"
  },
  "language_info": {
   "codemirror_mode": {
    "name": "ipython",
    "version": 3
   },
   "file_extension": ".py",
   "mimetype": "text/x-python",
   "name": "python",
   "nbconvert_exporter": "python",
   "pygments_lexer": "ipython3",
   "version": "3.8.8"
  }
 },
 "nbformat": 4,
 "nbformat_minor": 2
}
